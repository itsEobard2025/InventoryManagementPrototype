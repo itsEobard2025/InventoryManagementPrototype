{
  "nbformat": 4,
  "nbformat_minor": 0,
  "metadata": {
    "colab": {
      "name": "IMS_AtharvaPise.ipynb",
      "provenance": []
    },
    "kernelspec": {
      "name": "python3",
      "display_name": "Python 3"
    },
    "language_info": {
      "name": "python"
    }
  },
  "cells": [
    {
      "cell_type": "markdown",
      "metadata": {
        "id": "fqwZz7NWYe2o"
      },
      "source": [
        "# Creating Small Inventory in a Boiler Plate"
      ]
    },
    {
      "cell_type": "code",
      "metadata": {
        "id": "OOloZC0iRLGH"
      },
      "source": [
        "user_inventory= {'160110111001': {'name': 'Bread', 'msrp': 25.0, 'qnt': 10, 'type' : 'Food', 'expiry' : '13 Sept 2021'},\n",
        "                 '160110111002': {'name': 'Meat', 'msrp': 200, 'qnt': 100, 'type' : 'Food', 'expiry' : '6 October 2021'},\n",
        "                 '160110111003': {'name': 'Cold Drink', 'msrp': 15, 'qnt': 200, 'type' : 'Beverage', 'expiry' : '6 November 2021'},\n",
        "                 '160110111004': {'name': 'Hand Towel', 'msrp': 50, 'qnt': 40, 'type' : 'Cloth', 'expiry' : 'Nan'}}"
      ],
      "execution_count": 16,
      "outputs": []
    },
    {
      "cell_type": "code",
      "metadata": {
        "colab": {
          "base_uri": "https://localhost:8080/"
        },
        "id": "MIsyXg4oSSh2",
        "outputId": "70673318-4ef4-42ec-93a6-f2f72c22d713"
      },
      "source": [
        "user_inventory"
      ],
      "execution_count": 17,
      "outputs": [
        {
          "output_type": "execute_result",
          "data": {
            "text/plain": [
              "{'160110111001': {'expiry': '13 Sept 2021',\n",
              "  'msrp': 25.0,\n",
              "  'name': 'Bread',\n",
              "  'qnt': 10,\n",
              "  'type': 'Food'},\n",
              " '160110111002': {'expiry': '6 October 2021',\n",
              "  'msrp': 200,\n",
              "  'name': 'Meat',\n",
              "  'qnt': 100,\n",
              "  'type': 'Food'},\n",
              " '160110111003': {'expiry': '6 November 2021',\n",
              "  'msrp': 15,\n",
              "  'name': 'Cold Drink',\n",
              "  'qnt': 200,\n",
              "  'type': 'Beverage'},\n",
              " '160110111004': {'expiry': 'Nan',\n",
              "  'msrp': 50,\n",
              "  'name': 'Hand Towel',\n",
              "  'qnt': 40,\n",
              "  'type': 'Cloth'}}"
            ]
          },
          "metadata": {},
          "execution_count": 17
        }
      ]
    },
    {
      "cell_type": "code",
      "metadata": {
        "id": "vmk33dBgSUBT"
      },
      "source": [
        "import json"
      ],
      "execution_count": 18,
      "outputs": []
    },
    {
      "cell_type": "code",
      "metadata": {
        "id": "7R-ZYJcYSdSu"
      },
      "source": [
        "js = json.dumps(user_inventory)"
      ],
      "execution_count": 19,
      "outputs": []
    },
    {
      "cell_type": "code",
      "metadata": {
        "colab": {
          "base_uri": "https://localhost:8080/"
        },
        "id": "U9HTD2ZJSlUe",
        "outputId": "831b91c6-0b82-4a00-a2eb-6994783dc869"
      },
      "source": [
        "user_inventory"
      ],
      "execution_count": 20,
      "outputs": [
        {
          "output_type": "execute_result",
          "data": {
            "text/plain": [
              "{'160110111001': {'expiry': '13 Sept 2021',\n",
              "  'msrp': 25.0,\n",
              "  'name': 'Bread',\n",
              "  'qnt': 10,\n",
              "  'type': 'Food'},\n",
              " '160110111002': {'expiry': '6 October 2021',\n",
              "  'msrp': 200,\n",
              "  'name': 'Meat',\n",
              "  'qnt': 100,\n",
              "  'type': 'Food'},\n",
              " '160110111003': {'expiry': '6 November 2021',\n",
              "  'msrp': 15,\n",
              "  'name': 'Cold Drink',\n",
              "  'qnt': 200,\n",
              "  'type': 'Beverage'},\n",
              " '160110111004': {'expiry': 'Nan',\n",
              "  'msrp': 50,\n",
              "  'name': 'Hand Towel',\n",
              "  'qnt': 40,\n",
              "  'type': 'Cloth'}}"
            ]
          },
          "metadata": {},
          "execution_count": 20
        }
      ]
    },
    {
      "cell_type": "code",
      "metadata": {
        "colab": {
          "base_uri": "https://localhost:8080/",
          "height": 69
        },
        "id": "IZzpJAW-Srbm",
        "outputId": "a8b42e48-68e7-4399-a7b7-3aca95838c28"
      },
      "source": [
        "js"
      ],
      "execution_count": 21,
      "outputs": [
        {
          "output_type": "execute_result",
          "data": {
            "application/vnd.google.colaboratory.intrinsic+json": {
              "type": "string"
            },
            "text/plain": [
              "'{\"160110111001\": {\"name\": \"Bread\", \"msrp\": 25.0, \"qnt\": 10, \"type\": \"Food\", \"expiry\": \"13 Sept 2021\"}, \"160110111002\": {\"name\": \"Meat\", \"msrp\": 200, \"qnt\": 100, \"type\": \"Food\", \"expiry\": \"6 October 2021\"}, \"160110111003\": {\"name\": \"Cold Drink\", \"msrp\": 15, \"qnt\": 200, \"type\": \"Beverage\", \"expiry\": \"6 November 2021\"}, \"160110111004\": {\"name\": \"Hand Towel\", \"msrp\": 50, \"qnt\": 40, \"type\": \"Cloth\", \"expiry\": \"Nan\"}}'"
            ]
          },
          "metadata": {},
          "execution_count": 21
        }
      ]
    },
    {
      "cell_type": "markdown",
      "metadata": {
        "id": "rztLSlZ9N-LM"
      },
      "source": [
        "\n",
        "# Creating the Json for Primitive Inventory(User_Inventory)"
      ]
    },
    {
      "cell_type": "code",
      "metadata": {
        "id": "PSF9ibdBSsF9"
      },
      "source": [
        "fb= open(\"user_inventory.json\",\"w\")\n",
        "fb.write(js)\n",
        "fb.close()"
      ],
      "execution_count": 24,
      "outputs": []
    },
    {
      "cell_type": "code",
      "metadata": {
        "id": "RZPwW3FHSyze"
      },
      "source": [
        "fd= open(\"user_inventory.json\",\"r\")\n",
        "object_r= fd.read()\n",
        "fd.close()\n",
        "past_records= json.loads(object_r)"
      ],
      "execution_count": 25,
      "outputs": []
    },
    {
      "cell_type": "code",
      "metadata": {
        "colab": {
          "base_uri": "https://localhost:8080/",
          "height": 69
        },
        "id": "j88MyETGTHdR",
        "outputId": "f56ca27b-c71b-469e-e85a-6b806b8a767a"
      },
      "source": [
        "object_r"
      ],
      "execution_count": 26,
      "outputs": [
        {
          "output_type": "execute_result",
          "data": {
            "application/vnd.google.colaboratory.intrinsic+json": {
              "type": "string"
            },
            "text/plain": [
              "'{\"160110111001\": {\"name\": \"Bread\", \"msrp\": 25.0, \"qnt\": 10, \"type\": \"Food\", \"expiry\": \"13 Sept 2021\"}, \"160110111002\": {\"name\": \"Meat\", \"msrp\": 200, \"qnt\": 100, \"type\": \"Food\", \"expiry\": \"6 October 2021\"}, \"160110111003\": {\"name\": \"Cold Drink\", \"msrp\": 15, \"qnt\": 200, \"type\": \"Beverage\", \"expiry\": \"6 November 2021\"}, \"160110111004\": {\"name\": \"Hand Towel\", \"msrp\": 50, \"qnt\": 40, \"type\": \"Cloth\", \"expiry\": \"Nan\"}}'"
            ]
          },
          "metadata": {},
          "execution_count": 26
        }
      ]
    },
    {
      "cell_type": "code",
      "metadata": {
        "colab": {
          "base_uri": "https://localhost:8080/"
        },
        "id": "NEMHplfdTpD5",
        "outputId": "8e753c5d-49b9-4590-9337-601771ea4efc"
      },
      "source": [
        "past_records"
      ],
      "execution_count": 27,
      "outputs": [
        {
          "output_type": "execute_result",
          "data": {
            "text/plain": [
              "{'160110111001': {'expiry': '13 Sept 2021',\n",
              "  'msrp': 25.0,\n",
              "  'name': 'Bread',\n",
              "  'qnt': 10,\n",
              "  'type': 'Food'},\n",
              " '160110111002': {'expiry': '6 October 2021',\n",
              "  'msrp': 200,\n",
              "  'name': 'Meat',\n",
              "  'qnt': 100,\n",
              "  'type': 'Food'},\n",
              " '160110111003': {'expiry': '6 November 2021',\n",
              "  'msrp': 15,\n",
              "  'name': 'Cold Drink',\n",
              "  'qnt': 200,\n",
              "  'type': 'Beverage'},\n",
              " '160110111004': {'expiry': 'Nan',\n",
              "  'msrp': 50,\n",
              "  'name': 'Hand Towel',\n",
              "  'qnt': 40,\n",
              "  'type': 'Cloth'}}"
            ]
          },
          "metadata": {},
          "execution_count": 27
        }
      ]
    },
    {
      "cell_type": "markdown",
      "metadata": {
        "id": "YT_xOjHnYrtV"
      },
      "source": [
        "# Adding Newer Products into the Inventory"
      ]
    },
    {
      "cell_type": "code",
      "metadata": {
        "colab": {
          "base_uri": "https://localhost:8080/"
        },
        "id": "SL4rz84OWFG3",
        "outputId": "0c0bf722-5829-4a24-80e5-cb15dfb1f372"
      },
      "source": [
        "ui_id= input(\"Enter the Prod. Id : \")\n",
        "ui_name= input(\"Enter the Prod. Name : \")\n",
        "ui_pr= int(input(\"Enter the prod. price:\"))\n",
        "ui_qn= int(input(\"Enter the prod. qauntity: \"))\n",
        "ui_type = input(\"Enter the Type of Product : \")\n",
        "ui_exp = input(\"Enter the Expiry Date of Product : \")\n",
        "\n",
        "record[ui_id]={\"name\":ui_name,\"msrp\":ui_pr,\"qnt\":ui_qn, \"type\" : ui_type, \"expiry\" : ui_exp}"
      ],
      "execution_count": 89,
      "outputs": [
        {
          "name": "stdout",
          "output_type": "stream",
          "text": [
            "Enter the Prod. Id : 160110111031\n",
            "Enter the Prod. Name : Bedsheet\n",
            "Enter the prod. price:200\n",
            "Enter the prod. qauntity: 50\n",
            "Enter the Type of Product : Cloth\n",
            "Enter the Expiry Date of Product : NaN\n"
          ]
        }
      ]
    },
    {
      "cell_type": "code",
      "metadata": {
        "colab": {
          "base_uri": "https://localhost:8080/"
        },
        "id": "nxihNrFQQC2-",
        "outputId": "9e6ae8aa-f75e-4e39-8499-281d5acc1e59"
      },
      "source": [
        "record"
      ],
      "execution_count": 90,
      "outputs": [
        {
          "output_type": "execute_result",
          "data": {
            "text/plain": [
              "{'160110111001': {'expiry': '13 Sept 2021',\n",
              "  'msrp': 25.0,\n",
              "  'name': 'Bread',\n",
              "  'qnt': 10,\n",
              "  'type': 'Food'},\n",
              " '160110111002': {'expiry': '6 October 2021',\n",
              "  'msrp': 200,\n",
              "  'name': 'Meat',\n",
              "  'qnt': 100,\n",
              "  'type': 'Food'},\n",
              " '160110111003': {'expiry': '6 November 2021',\n",
              "  'msrp': 15,\n",
              "  'name': 'Cold Drink',\n",
              "  'qnt': 200,\n",
              "  'type': 'Beverage'},\n",
              " '160110111004': {'expiry': 'Nan',\n",
              "  'msrp': 50,\n",
              "  'name': 'Hand Towel',\n",
              "  'qnt': 40,\n",
              "  'type': 'Cloth'},\n",
              " '160110111005': {'expiry': '13 September 2021',\n",
              "  'msrp': 28,\n",
              "  'name': 'Milk',\n",
              "  'qnt': 50,\n",
              "  'type': 'Dairy'},\n",
              " '160110111006': {'expiry': '13 September 2021',\n",
              "  'msrp': 5,\n",
              "  'name': 'Eggs',\n",
              "  'qnt': 400,\n",
              "  'type': 'Dairy'},\n",
              " '160110111007': {'expiry': '6 September 2022',\n",
              "  'msrp': 200,\n",
              "  'name': 'Cashew',\n",
              "  'qnt': 150,\n",
              "  'type': 'Dry Fruits'},\n",
              " '160110111008': {'expiry': '6 October 2021 ',\n",
              "  'msrp': 45,\n",
              "  'name': 'Yogurt',\n",
              "  'qnt': 90,\n",
              "  'type': 'Dairy'},\n",
              " '160110111010': {'expiry': '6 September 2022',\n",
              "  'msrp': 98,\n",
              "  'name': 'Kissan Jam',\n",
              "  'qnt': 20,\n",
              "  'type': 'Condiment'},\n",
              " '160110111011': {'expiry': '13 November 2021',\n",
              "  'msrp': 50,\n",
              "  'name': 'Croissant',\n",
              "  'qnt': 25,\n",
              "  'type': 'Dairy(Pastry)'},\n",
              " '160110111012': {'expiry': '21 September 2021',\n",
              "  'msrp': 40,\n",
              "  'name': 'Oatmeal',\n",
              "  'qnt': 100,\n",
              "  'type': 'Grains'},\n",
              " '160110111013': {'expiry': '8 September 2021',\n",
              "  'msrp': 60,\n",
              "  'name': 'Apples',\n",
              "  'qnt': 25,\n",
              "  'type': 'Fruits'},\n",
              " '160110111014': {'expiry': 'NaN',\n",
              "  'msrp': 99,\n",
              "  'name': 'Toilet Paper',\n",
              "  'qnt': 100,\n",
              "  'type': 'Life Care'},\n",
              " '160110111015': {'expiry': '6 October 2021',\n",
              "  'msrp': 50,\n",
              "  'name': 'Chocolate',\n",
              "  'qnt': 500,\n",
              "  'type': 'Snacks'},\n",
              " '160110111016': {'expiry': '13 November 2021',\n",
              "  'msrp': 40,\n",
              "  'name': 'Seczhuan Sauce',\n",
              "  'qnt': 80,\n",
              "  'type': 'Ketchup'},\n",
              " '160110111017': {'expiry': '6 September 2023',\n",
              "  'msrp': 500,\n",
              "  'name': 'Detergent',\n",
              "  'qnt': 90,\n",
              "  'type': 'Life Care'},\n",
              " '160110111018': {'expiry': '16 November 2021',\n",
              "  'msrp': 199,\n",
              "  'name': 'Cheese',\n",
              "  'qnt': 50,\n",
              "  'type': 'Dairy'},\n",
              " '160110111019': {'expiry': '30 September 2021',\n",
              "  'msrp': 50,\n",
              "  'name': 'Bananas',\n",
              "  'qnt': 100,\n",
              "  'type': 'Fruits'},\n",
              " '160110111020': {'expiry': '9 September 2021',\n",
              "  'msrp': 20,\n",
              "  'name': 'Cabbage',\n",
              "  'qnt': 10,\n",
              "  'type': 'Vegetables'},\n",
              " '160110111021': {'expiry': '30 October 2021',\n",
              "  'msrp': 200,\n",
              "  'name': 'Brown Rice',\n",
              "  'qnt': 150,\n",
              "  'type': 'Grains'},\n",
              " '160110111022': {'expiry': '13 September 2021',\n",
              "  'msrp': 50,\n",
              "  'name': 'Couscous',\n",
              "  'qnt': 10,\n",
              "  'type': 'Pasta'},\n",
              " '160110111023': {'expiry': '6 October 2021',\n",
              "  'msrp': 30,\n",
              "  'name': 'Beans',\n",
              "  'qnt': 50,\n",
              "  'type': 'Legumes'},\n",
              " '160110111024': {'expiry': '6 December 2021',\n",
              "  'msrp': 150,\n",
              "  'name': 'Frozen Pizza',\n",
              "  'qnt': 100,\n",
              "  'type': 'Dairy'},\n",
              " '160110111025': {'expiry': '30 September 2021',\n",
              "  'msrp': 200,\n",
              "  'name': 'Chicken',\n",
              "  'qnt': 60,\n",
              "  'type': 'Frozen Food'},\n",
              " '160110111026': {'expiry': 'NaN',\n",
              "  'msrp': 199,\n",
              "  'name': 'Deodorant',\n",
              "  'qnt': 80,\n",
              "  'type': 'Life Care'},\n",
              " '160110111027': {'expiry': '6 September 2022',\n",
              "  'msrp': 300,\n",
              "  'name': 'Pedigree',\n",
              "  'qnt': 20,\n",
              "  'type': 'Pet Supplies'},\n",
              " '160110111028': {'expiry': '6 September 2022',\n",
              "  'msrp': 1500,\n",
              "  'name': 'Whey Protein',\n",
              "  'qnt': 15,\n",
              "  'type': 'Sports Supplementaries'},\n",
              " '160110111029': {'expiry': 'NaN',\n",
              "  'msrp': 800,\n",
              "  'name': 'Calculator',\n",
              "  'qnt': 50,\n",
              "  'type': 'Electronics'},\n",
              " '160110111030': {'expiry': 'NaN',\n",
              "  'msrp': 4000,\n",
              "  'name': 'Lawn Mover',\n",
              "  'qnt': 5,\n",
              "  'type': 'Household'},\n",
              " '160110111031': {'expiry': 'NaN',\n",
              "  'msrp': 200,\n",
              "  'name': 'Bedsheet',\n",
              "  'qnt': 50,\n",
              "  'type': 'Cloth'}}"
            ]
          },
          "metadata": {},
          "execution_count": 90
        }
      ]
    },
    {
      "cell_type": "code",
      "metadata": {
        "id": "v_abL7F7ZnRv"
      },
      "source": [
        "js = json.dumps(record)"
      ],
      "execution_count": 91,
      "outputs": []
    },
    {
      "cell_type": "code",
      "metadata": {
        "colab": {
          "base_uri": "https://localhost:8080/",
          "height": 120
        },
        "id": "BCeOO9XOZo7F",
        "outputId": "539a21d1-9d85-447d-f22c-19416737a526"
      },
      "source": [
        "js"
      ],
      "execution_count": 92,
      "outputs": [
        {
          "output_type": "execute_result",
          "data": {
            "application/vnd.google.colaboratory.intrinsic+json": {
              "type": "string"
            },
            "text/plain": [
              "'{\"160110111001\": {\"name\": \"Bread\", \"msrp\": 25.0, \"qnt\": 10, \"type\": \"Food\", \"expiry\": \"13 Sept 2021\"}, \"160110111002\": {\"name\": \"Meat\", \"msrp\": 200, \"qnt\": 100, \"type\": \"Food\", \"expiry\": \"6 October 2021\"}, \"160110111003\": {\"name\": \"Cold Drink\", \"msrp\": 15, \"qnt\": 200, \"type\": \"Beverage\", \"expiry\": \"6 November 2021\"}, \"160110111004\": {\"name\": \"Hand Towel\", \"msrp\": 50, \"qnt\": 40, \"type\": \"Cloth\", \"expiry\": \"Nan\"}, \"160110111005\": {\"name\": \"Milk\", \"msrp\": 28, \"qnt\": 50, \"type\": \"Dairy\", \"expiry\": \"13 September 2021\"}, \"160110111006\": {\"name\": \"Eggs\", \"msrp\": 5, \"qnt\": 400, \"type\": \"Dairy\", \"expiry\": \"13 September 2021\"}, \"160110111007\": {\"name\": \"Cashew\", \"msrp\": 200, \"qnt\": 150, \"type\": \"Dry Fruits\", \"expiry\": \"6 September 2022\"}, \"160110111008\": {\"name\": \"Yogurt\", \"msrp\": 45, \"qnt\": 90, \"type\": \"Dairy\", \"expiry\": \"6 October 2021 \"}, \"160110111010\": {\"name\": \"Kissan Jam\", \"msrp\": 98, \"qnt\": 20, \"type\": \"Condiment\", \"expiry\": \"6 September 2022\"}, \"160110111011\": {\"name\": \"Croissant\", \"msrp\": 50, \"qnt\": 25, \"type\": \"Dairy(Pastry)\", \"expiry\": \"13 November 2021\"}, \"160110111012\": {\"name\": \"Oatmeal\", \"msrp\": 40, \"qnt\": 100, \"type\": \"Grains\", \"expiry\": \"21 September 2021\"}, \"160110111013\": {\"name\": \"Apples\", \"msrp\": 60, \"qnt\": 25, \"type\": \"Fruits\", \"expiry\": \"8 September 2021\"}, \"160110111014\": {\"name\": \"Toilet Paper\", \"msrp\": 99, \"qnt\": 100, \"type\": \"Life Care\", \"expiry\": \"NaN\"}, \"160110111015\": {\"name\": \"Chocolate\", \"msrp\": 50, \"qnt\": 500, \"type\": \"Snacks\", \"expiry\": \"6 October 2021\"}, \"160110111016\": {\"name\": \"Seczhuan Sauce\", \"msrp\": 40, \"qnt\": 80, \"type\": \"Ketchup\", \"expiry\": \"13 November 2021\"}, \"160110111017\": {\"name\": \"Detergent\", \"msrp\": 500, \"qnt\": 90, \"type\": \"Life Care\", \"expiry\": \"6 September 2023\"}, \"160110111018\": {\"name\": \"Cheese\", \"msrp\": 199, \"qnt\": 50, \"type\": \"Dairy\", \"expiry\": \"16 November 2021\"}, \"160110111019\": {\"name\": \"Bananas\", \"msrp\": 50, \"qnt\": 100, \"type\": \"Fruits\", \"expiry\": \"30 September 2021\"}, \"160110111020\": {\"name\": \"Cabbage\", \"msrp\": 20, \"qnt\": 10, \"type\": \"Vegetables\", \"expiry\": \"9 September 2021\"}, \"160110111021\": {\"name\": \"Brown Rice\", \"msrp\": 200, \"qnt\": 150, \"type\": \"Grains\", \"expiry\": \"30 October 2021\"}, \"160110111022\": {\"name\": \"Couscous\", \"msrp\": 50, \"qnt\": 10, \"type\": \"Pasta\", \"expiry\": \"13 September 2021\"}, \"160110111023\": {\"name\": \"Beans\", \"msrp\": 30, \"qnt\": 50, \"type\": \"Legumes\", \"expiry\": \"6 October 2021\"}, \"160110111024\": {\"name\": \"Frozen Pizza\", \"msrp\": 150, \"qnt\": 100, \"type\": \"Dairy\", \"expiry\": \"6 December 2021\"}, \"160110111025\": {\"name\": \"Chicken\", \"msrp\": 200, \"qnt\": 60, \"type\": \"Frozen Food\", \"expiry\": \"30 September 2021\"}, \"160110111026\": {\"name\": \"Deodorant\", \"msrp\": 199, \"qnt\": 80, \"type\": \"Life Care\", \"expiry\": \"NaN\"}, \"160110111027\": {\"name\": \"Pedigree\", \"msrp\": 300, \"qnt\": 20, \"type\": \"Pet Supplies\", \"expiry\": \"6 September 2022\"}, \"160110111028\": {\"name\": \"Whey Protein\", \"msrp\": 1500, \"qnt\": 15, \"type\": \"Sports Supplementaries\", \"expiry\": \"6 September 2022\"}, \"160110111029\": {\"name\": \"Calculator\", \"msrp\": 800, \"qnt\": 50, \"type\": \"Electronics\", \"expiry\": \"NaN\"}, \"160110111030\": {\"name\": \"Lawn Mover\", \"msrp\": 4000, \"qnt\": 5, \"type\": \"Household\", \"expiry\": \"NaN\"}, \"160110111031\": {\"name\": \"Bedsheet\", \"msrp\": 200, \"qnt\": 50, \"type\": \"Cloth\", \"expiry\": \"NaN\"}}'"
            ]
          },
          "metadata": {},
          "execution_count": 92
        }
      ]
    },
    {
      "cell_type": "markdown",
      "metadata": {
        "id": "Ff1N2ZihY8co"
      },
      "source": [
        "# Creating Different Json for further Process"
      ]
    },
    {
      "cell_type": "code",
      "metadata": {
        "id": "KoDR3KcdX5es"
      },
      "source": [
        "fd= open(\"new_inv.json\",\"w\")\n",
        "fd.write(js)\n",
        "fd.close()"
      ],
      "execution_count": 93,
      "outputs": []
    },
    {
      "cell_type": "code",
      "metadata": {
        "id": "SxroYh5jZDvQ"
      },
      "source": [
        "fd= open(\"new_inv.json\",\"r\")\n",
        "read_js= fd.read()\n",
        "fd.close()\n",
        "file_read= json.loads(read_js)"
      ],
      "execution_count": 94,
      "outputs": []
    },
    {
      "cell_type": "code",
      "metadata": {
        "colab": {
          "base_uri": "https://localhost:8080/"
        },
        "id": "n_Y1g9SMZTZ5",
        "outputId": "5801b887-8d3b-44f1-ff57-3e4200d06b14"
      },
      "source": [
        "file_read"
      ],
      "execution_count": 95,
      "outputs": [
        {
          "output_type": "execute_result",
          "data": {
            "text/plain": [
              "{'160110111001': {'expiry': '13 Sept 2021',\n",
              "  'msrp': 25.0,\n",
              "  'name': 'Bread',\n",
              "  'qnt': 10,\n",
              "  'type': 'Food'},\n",
              " '160110111002': {'expiry': '6 October 2021',\n",
              "  'msrp': 200,\n",
              "  'name': 'Meat',\n",
              "  'qnt': 100,\n",
              "  'type': 'Food'},\n",
              " '160110111003': {'expiry': '6 November 2021',\n",
              "  'msrp': 15,\n",
              "  'name': 'Cold Drink',\n",
              "  'qnt': 200,\n",
              "  'type': 'Beverage'},\n",
              " '160110111004': {'expiry': 'Nan',\n",
              "  'msrp': 50,\n",
              "  'name': 'Hand Towel',\n",
              "  'qnt': 40,\n",
              "  'type': 'Cloth'},\n",
              " '160110111005': {'expiry': '13 September 2021',\n",
              "  'msrp': 28,\n",
              "  'name': 'Milk',\n",
              "  'qnt': 50,\n",
              "  'type': 'Dairy'},\n",
              " '160110111006': {'expiry': '13 September 2021',\n",
              "  'msrp': 5,\n",
              "  'name': 'Eggs',\n",
              "  'qnt': 400,\n",
              "  'type': 'Dairy'},\n",
              " '160110111007': {'expiry': '6 September 2022',\n",
              "  'msrp': 200,\n",
              "  'name': 'Cashew',\n",
              "  'qnt': 150,\n",
              "  'type': 'Dry Fruits'},\n",
              " '160110111008': {'expiry': '6 October 2021 ',\n",
              "  'msrp': 45,\n",
              "  'name': 'Yogurt',\n",
              "  'qnt': 90,\n",
              "  'type': 'Dairy'},\n",
              " '160110111010': {'expiry': '6 September 2022',\n",
              "  'msrp': 98,\n",
              "  'name': 'Kissan Jam',\n",
              "  'qnt': 20,\n",
              "  'type': 'Condiment'},\n",
              " '160110111011': {'expiry': '13 November 2021',\n",
              "  'msrp': 50,\n",
              "  'name': 'Croissant',\n",
              "  'qnt': 25,\n",
              "  'type': 'Dairy(Pastry)'},\n",
              " '160110111012': {'expiry': '21 September 2021',\n",
              "  'msrp': 40,\n",
              "  'name': 'Oatmeal',\n",
              "  'qnt': 100,\n",
              "  'type': 'Grains'},\n",
              " '160110111013': {'expiry': '8 September 2021',\n",
              "  'msrp': 60,\n",
              "  'name': 'Apples',\n",
              "  'qnt': 25,\n",
              "  'type': 'Fruits'},\n",
              " '160110111014': {'expiry': 'NaN',\n",
              "  'msrp': 99,\n",
              "  'name': 'Toilet Paper',\n",
              "  'qnt': 100,\n",
              "  'type': 'Life Care'},\n",
              " '160110111015': {'expiry': '6 October 2021',\n",
              "  'msrp': 50,\n",
              "  'name': 'Chocolate',\n",
              "  'qnt': 500,\n",
              "  'type': 'Snacks'},\n",
              " '160110111016': {'expiry': '13 November 2021',\n",
              "  'msrp': 40,\n",
              "  'name': 'Seczhuan Sauce',\n",
              "  'qnt': 80,\n",
              "  'type': 'Ketchup'},\n",
              " '160110111017': {'expiry': '6 September 2023',\n",
              "  'msrp': 500,\n",
              "  'name': 'Detergent',\n",
              "  'qnt': 90,\n",
              "  'type': 'Life Care'},\n",
              " '160110111018': {'expiry': '16 November 2021',\n",
              "  'msrp': 199,\n",
              "  'name': 'Cheese',\n",
              "  'qnt': 50,\n",
              "  'type': 'Dairy'},\n",
              " '160110111019': {'expiry': '30 September 2021',\n",
              "  'msrp': 50,\n",
              "  'name': 'Bananas',\n",
              "  'qnt': 100,\n",
              "  'type': 'Fruits'},\n",
              " '160110111020': {'expiry': '9 September 2021',\n",
              "  'msrp': 20,\n",
              "  'name': 'Cabbage',\n",
              "  'qnt': 10,\n",
              "  'type': 'Vegetables'},\n",
              " '160110111021': {'expiry': '30 October 2021',\n",
              "  'msrp': 200,\n",
              "  'name': 'Brown Rice',\n",
              "  'qnt': 150,\n",
              "  'type': 'Grains'},\n",
              " '160110111022': {'expiry': '13 September 2021',\n",
              "  'msrp': 50,\n",
              "  'name': 'Couscous',\n",
              "  'qnt': 10,\n",
              "  'type': 'Pasta'},\n",
              " '160110111023': {'expiry': '6 October 2021',\n",
              "  'msrp': 30,\n",
              "  'name': 'Beans',\n",
              "  'qnt': 50,\n",
              "  'type': 'Legumes'},\n",
              " '160110111024': {'expiry': '6 December 2021',\n",
              "  'msrp': 150,\n",
              "  'name': 'Frozen Pizza',\n",
              "  'qnt': 100,\n",
              "  'type': 'Dairy'},\n",
              " '160110111025': {'expiry': '30 September 2021',\n",
              "  'msrp': 200,\n",
              "  'name': 'Chicken',\n",
              "  'qnt': 60,\n",
              "  'type': 'Frozen Food'},\n",
              " '160110111026': {'expiry': 'NaN',\n",
              "  'msrp': 199,\n",
              "  'name': 'Deodorant',\n",
              "  'qnt': 80,\n",
              "  'type': 'Life Care'},\n",
              " '160110111027': {'expiry': '6 September 2022',\n",
              "  'msrp': 300,\n",
              "  'name': 'Pedigree',\n",
              "  'qnt': 20,\n",
              "  'type': 'Pet Supplies'},\n",
              " '160110111028': {'expiry': '6 September 2022',\n",
              "  'msrp': 1500,\n",
              "  'name': 'Whey Protein',\n",
              "  'qnt': 15,\n",
              "  'type': 'Sports Supplementaries'},\n",
              " '160110111029': {'expiry': 'NaN',\n",
              "  'msrp': 800,\n",
              "  'name': 'Calculator',\n",
              "  'qnt': 50,\n",
              "  'type': 'Electronics'},\n",
              " '160110111030': {'expiry': 'NaN',\n",
              "  'msrp': 4000,\n",
              "  'name': 'Lawn Mover',\n",
              "  'qnt': 5,\n",
              "  'type': 'Household'},\n",
              " '160110111031': {'expiry': 'NaN',\n",
              "  'msrp': 200,\n",
              "  'name': 'Bedsheet',\n",
              "  'qnt': 50,\n",
              "  'type': 'Cloth'}}"
            ]
          },
          "metadata": {},
          "execution_count": 95
        }
      ]
    },
    {
      "cell_type": "markdown",
      "metadata": {
        "id": "iahi5U5gaOZ-"
      },
      "source": [
        "# Find the Product's Details from its Product Id ."
      ]
    },
    {
      "cell_type": "code",
      "metadata": {
        "colab": {
          "base_uri": "https://localhost:8080/"
        },
        "id": "GMeblUS3aQlf",
        "outputId": "8dece883-5ad6-4aa7-960c-52229a576d20"
      },
      "source": [
        "find_id = input(\"Enter the Product Id : \")\n",
        "for i in file_read:\n",
        "  if (find_id==i):\n",
        "    print(file_read[find_id])\n"
      ],
      "execution_count": 96,
      "outputs": [
        {
          "output_type": "stream",
          "name": "stdout",
          "text": [
            "Enter the Product Id : 160110111015\n",
            "{'name': 'Chocolate', 'msrp': 50, 'qnt': 500, 'type': 'Snacks', 'expiry': '6 October 2021'}\n"
          ]
        }
      ]
    },
    {
      "cell_type": "markdown",
      "metadata": {
        "id": "gUvs62qtapk3"
      },
      "source": [
        "## Finding Product Details by the Name"
      ]
    },
    {
      "cell_type": "code",
      "metadata": {
        "colab": {
          "base_uri": "https://localhost:8080/"
        },
        "id": "9n0GmQOUafd7",
        "outputId": "b0fbd71c-3108-42f4-b087-e4433d006b76"
      },
      "source": [
        "find_name= input(\"Enter the name of Product : \")\n",
        "for i in file_read:\n",
        "  if (find_name==file_read[i]['name']):\n",
        "\n",
        "    print(file_read[i])\n"
      ],
      "execution_count": 97,
      "outputs": [
        {
          "output_type": "stream",
          "name": "stdout",
          "text": [
            "Enter the name of Product : Chicken\n",
            "{'name': 'Chicken', 'msrp': 200, 'qnt': 60, 'type': 'Frozen Food', 'expiry': '30 September 2021'}\n"
          ]
        }
      ]
    },
    {
      "cell_type": "markdown",
      "metadata": {
        "id": "MGfk7n1zc404"
      },
      "source": [
        "# Updating Item Inventory"
      ]
    },
    {
      "cell_type": "code",
      "metadata": {
        "colab": {
          "base_uri": "https://localhost:8080/"
        },
        "id": "oawx_2lYc8s3",
        "outputId": "018dbef3-9c41-47e3-c074-577408351f42"
      },
      "source": [
        "find_id = input(\"Enter the Product Id : \")\n",
        "\n",
        "for i in file_read:\n",
        "  if (find_id==i):\n",
        "    print(\"What are the changes incoming for\", file_read[i]['name'])\n",
        "    new_pr = int(input(\"Enter the updated Price of the Product : \"))\n",
        "    new_qn = int(input(\"Enter the updated Quantity of the Product : \"))\n",
        "    new_type = input(\"Enter the updated Type of the Product : \")\n",
        "    new_exp = input(\"Enter the updated Expiry Date of the Product : \")\n",
        "    file_read[find_id]['msrp'] = new_pr\n",
        "    file_read[find_id]['qnt'] = new_qn\n",
        "    file_read[find_id]['type'] = new_type\n",
        "    file_read[find_id]['expiry'] = new_exp"
      ],
      "execution_count": 103,
      "outputs": [
        {
          "name": "stdout",
          "output_type": "stream",
          "text": [
            "Enter the Product Id : 160110111025\n",
            "What are the changes incoming for Chicken\n",
            "Enter the updated Price of the Product : 300\n",
            "Enter the updated Quantity of the Product : 50\n",
            "Enter the updated Type of the Product : Frozen Food\n",
            "Enter the updated Expiry Date of the Product : 30 October 2021\n"
          ]
        }
      ]
    },
    {
      "cell_type": "code",
      "metadata": {
        "colab": {
          "base_uri": "https://localhost:8080/"
        },
        "id": "xd1r3CyBe_pT",
        "outputId": "5cc20473-52f8-4217-95c4-993c80c57da6"
      },
      "source": [
        "file_read"
      ],
      "execution_count": 104,
      "outputs": [
        {
          "output_type": "execute_result",
          "data": {
            "text/plain": [
              "{'160110111001': {'expiry': '13 Sept 2021',\n",
              "  'msrp': 25.0,\n",
              "  'name': 'Bread',\n",
              "  'qnt': 10,\n",
              "  'type': 'Food'},\n",
              " '160110111002': {'expiry': '6 October 2021',\n",
              "  'msrp': 200,\n",
              "  'name': 'Meat',\n",
              "  'qnt': 100,\n",
              "  'type': 'Food'},\n",
              " '160110111003': {'expiry': '6 November 2021',\n",
              "  'msrp': 15,\n",
              "  'name': 'Cold Drink',\n",
              "  'qnt': 200,\n",
              "  'type': 'Beverage'},\n",
              " '160110111004': {'expiry': 'Nan',\n",
              "  'msrp': 50,\n",
              "  'name': 'Hand Towel',\n",
              "  'qnt': 40,\n",
              "  'type': 'Cloth'},\n",
              " '160110111005': {'expiry': '13 September 2021',\n",
              "  'msrp': 28,\n",
              "  'name': 'Milk',\n",
              "  'qnt': 50,\n",
              "  'type': 'Dairy'},\n",
              " '160110111006': {'expiry': '13 September 2021',\n",
              "  'msrp': 5,\n",
              "  'name': 'Eggs',\n",
              "  'qnt': 400,\n",
              "  'type': 'Dairy'},\n",
              " '160110111007': {'expiry': '6 September 2022',\n",
              "  'msrp': 200,\n",
              "  'name': 'Cashew',\n",
              "  'qnt': 150,\n",
              "  'type': 'Dry Fruits'},\n",
              " '160110111008': {'expiry': '6 October 2021 ',\n",
              "  'msrp': 45,\n",
              "  'name': 'Yogurt',\n",
              "  'qnt': 90,\n",
              "  'type': 'Dairy'},\n",
              " '160110111010': {'expiry': '6 September 2022',\n",
              "  'msrp': 98,\n",
              "  'name': 'Kissan Jam',\n",
              "  'qnt': 20,\n",
              "  'type': 'Condiment'},\n",
              " '160110111011': {'expiry': '13 November 2021',\n",
              "  'msrp': 50,\n",
              "  'name': 'Croissant',\n",
              "  'qnt': 25,\n",
              "  'type': 'Dairy(Pastry)'},\n",
              " '160110111012': {'expiry': '21 September 2021',\n",
              "  'msrp': 40,\n",
              "  'name': 'Oatmeal',\n",
              "  'qnt': 100,\n",
              "  'type': 'Grains'},\n",
              " '160110111013': {'expiry': '8 September 2021',\n",
              "  'msrp': 60,\n",
              "  'name': 'Apples',\n",
              "  'qnt': 25,\n",
              "  'type': 'Fruits'},\n",
              " '160110111014': {'expiry': 'NaN',\n",
              "  'msrp': 99,\n",
              "  'name': 'Toilet Paper',\n",
              "  'qnt': 100,\n",
              "  'type': 'Life Care'},\n",
              " '160110111015': {'expiry': '6 October 2021',\n",
              "  'msrp': 50,\n",
              "  'name': 'Chocolate',\n",
              "  'qnt': 500,\n",
              "  'type': 'Snacks'},\n",
              " '160110111016': {'expiry': '13 November 2021',\n",
              "  'msrp': 40,\n",
              "  'name': 'Seczhuan Sauce',\n",
              "  'qnt': 80,\n",
              "  'type': 'Ketchup'},\n",
              " '160110111017': {'expiry': '6 September 2023',\n",
              "  'msrp': 500,\n",
              "  'name': 'Detergent',\n",
              "  'qnt': 90,\n",
              "  'type': 'Life Care'},\n",
              " '160110111018': {'expiry': '16 November 2021',\n",
              "  'msrp': 199,\n",
              "  'name': 'Cheese',\n",
              "  'qnt': 50,\n",
              "  'type': 'Dairy'},\n",
              " '160110111019': {'expiry': '30 September 2021',\n",
              "  'msrp': 50,\n",
              "  'name': 'Bananas',\n",
              "  'qnt': 100,\n",
              "  'type': 'Fruits'},\n",
              " '160110111020': {'expiry': '9 September 2021',\n",
              "  'msrp': 20,\n",
              "  'name': 'Cabbage',\n",
              "  'qnt': 10,\n",
              "  'type': 'Vegetables'},\n",
              " '160110111021': {'expiry': '30 October 2021',\n",
              "  'msrp': 200,\n",
              "  'name': 'Brown Rice',\n",
              "  'qnt': 150,\n",
              "  'type': 'Grains'},\n",
              " '160110111022': {'expiry': '13 September 2021',\n",
              "  'msrp': 50,\n",
              "  'name': 'Couscous',\n",
              "  'qnt': 10,\n",
              "  'type': 'Pasta'},\n",
              " '160110111023': {'expiry': '6 October 2021',\n",
              "  'msrp': 30,\n",
              "  'name': 'Beans',\n",
              "  'qnt': 50,\n",
              "  'type': 'Legumes'},\n",
              " '160110111024': {'expiry': '6 December 2021',\n",
              "  'msrp': 150,\n",
              "  'name': 'Frozen Pizza',\n",
              "  'qnt': 100,\n",
              "  'type': 'Dairy'},\n",
              " '160110111025': {'expiry': '30 October 2021',\n",
              "  'msrp': 300,\n",
              "  'name': 'Chicken',\n",
              "  'qnt': 50,\n",
              "  'type': 'Frozen Food'},\n",
              " '160110111026': {'expiry': 'NaN',\n",
              "  'msrp': 199,\n",
              "  'name': 'Deodorant',\n",
              "  'qnt': 80,\n",
              "  'type': 'Life Care'},\n",
              " '160110111027': {'expiry': '6 September 2022',\n",
              "  'msrp': 300,\n",
              "  'name': 'Pedigree',\n",
              "  'qnt': 20,\n",
              "  'type': 'Pet Supplies'},\n",
              " '160110111028': {'expiry': '6 September 2022',\n",
              "  'msrp': 1500,\n",
              "  'name': 'Whey Protein',\n",
              "  'qnt': 15,\n",
              "  'type': 'Sports Supplementaries'},\n",
              " '160110111029': {'expiry': 'NaN',\n",
              "  'msrp': 800,\n",
              "  'name': 'Calculator',\n",
              "  'qnt': 50,\n",
              "  'type': 'Electronics'},\n",
              " '160110111030': {'expiry': 'NaN',\n",
              "  'msrp': 4000,\n",
              "  'name': 'Lawn Mover',\n",
              "  'qnt': 5,\n",
              "  'type': 'Household'},\n",
              " '160110111031': {'expiry': 'NaN',\n",
              "  'msrp': 200,\n",
              "  'name': 'Bedsheet',\n",
              "  'qnt': 50,\n",
              "  'type': 'Cloth'}}"
            ]
          },
          "metadata": {},
          "execution_count": 104
        }
      ]
    },
    {
      "cell_type": "code",
      "metadata": {
        "id": "TWd9ZOotfGbm"
      },
      "source": [
        "js = json.dumps(file_read)"
      ],
      "execution_count": 105,
      "outputs": []
    },
    {
      "cell_type": "code",
      "metadata": {
        "id": "QJReDsoRfaJO"
      },
      "source": [
        "fb= open(\"new_inv.json\",\"w\")\n",
        "fb.write(js)\n",
        "fb.close()"
      ],
      "execution_count": 106,
      "outputs": []
    },
    {
      "cell_type": "markdown",
      "metadata": {
        "id": "foX2tL14gXIF"
      },
      "source": [
        "# Selling Stuff"
      ]
    },
    {
      "cell_type": "code",
      "metadata": {
        "id": "fgaO6qFQga4v"
      },
      "source": [
        "fd = open(\"new_inv.json\",'r')\n",
        "file_read = fd.read()\n",
        "fd.close()\n",
        "\n",
        "items = json.loads(file_read)"
      ],
      "execution_count": 107,
      "outputs": []
    },
    {
      "cell_type": "code",
      "metadata": {
        "colab": {
          "base_uri": "https://localhost:8080/"
        },
        "id": "ETDHMuwghEyf",
        "outputId": "539b0428-e76c-4547-93b7-065dfb270b7e"
      },
      "source": [
        "items"
      ],
      "execution_count": 108,
      "outputs": [
        {
          "output_type": "execute_result",
          "data": {
            "text/plain": [
              "{'160110111001': {'expiry': '13 Sept 2021',\n",
              "  'msrp': 25.0,\n",
              "  'name': 'Bread',\n",
              "  'qnt': 10,\n",
              "  'type': 'Food'},\n",
              " '160110111002': {'expiry': '6 October 2021',\n",
              "  'msrp': 200,\n",
              "  'name': 'Meat',\n",
              "  'qnt': 100,\n",
              "  'type': 'Food'},\n",
              " '160110111003': {'expiry': '6 November 2021',\n",
              "  'msrp': 15,\n",
              "  'name': 'Cold Drink',\n",
              "  'qnt': 200,\n",
              "  'type': 'Beverage'},\n",
              " '160110111004': {'expiry': 'Nan',\n",
              "  'msrp': 50,\n",
              "  'name': 'Hand Towel',\n",
              "  'qnt': 40,\n",
              "  'type': 'Cloth'},\n",
              " '160110111005': {'expiry': '13 September 2021',\n",
              "  'msrp': 28,\n",
              "  'name': 'Milk',\n",
              "  'qnt': 50,\n",
              "  'type': 'Dairy'},\n",
              " '160110111006': {'expiry': '13 September 2021',\n",
              "  'msrp': 5,\n",
              "  'name': 'Eggs',\n",
              "  'qnt': 400,\n",
              "  'type': 'Dairy'},\n",
              " '160110111007': {'expiry': '6 September 2022',\n",
              "  'msrp': 200,\n",
              "  'name': 'Cashew',\n",
              "  'qnt': 150,\n",
              "  'type': 'Dry Fruits'},\n",
              " '160110111008': {'expiry': '6 October 2021 ',\n",
              "  'msrp': 45,\n",
              "  'name': 'Yogurt',\n",
              "  'qnt': 90,\n",
              "  'type': 'Dairy'},\n",
              " '160110111010': {'expiry': '6 September 2022',\n",
              "  'msrp': 98,\n",
              "  'name': 'Kissan Jam',\n",
              "  'qnt': 20,\n",
              "  'type': 'Condiment'},\n",
              " '160110111011': {'expiry': '13 November 2021',\n",
              "  'msrp': 50,\n",
              "  'name': 'Croissant',\n",
              "  'qnt': 25,\n",
              "  'type': 'Dairy(Pastry)'},\n",
              " '160110111012': {'expiry': '21 September 2021',\n",
              "  'msrp': 40,\n",
              "  'name': 'Oatmeal',\n",
              "  'qnt': 100,\n",
              "  'type': 'Grains'},\n",
              " '160110111013': {'expiry': '8 September 2021',\n",
              "  'msrp': 60,\n",
              "  'name': 'Apples',\n",
              "  'qnt': 25,\n",
              "  'type': 'Fruits'},\n",
              " '160110111014': {'expiry': 'NaN',\n",
              "  'msrp': 99,\n",
              "  'name': 'Toilet Paper',\n",
              "  'qnt': 100,\n",
              "  'type': 'Life Care'},\n",
              " '160110111015': {'expiry': '6 October 2021',\n",
              "  'msrp': 50,\n",
              "  'name': 'Chocolate',\n",
              "  'qnt': 500,\n",
              "  'type': 'Snacks'},\n",
              " '160110111016': {'expiry': '13 November 2021',\n",
              "  'msrp': 40,\n",
              "  'name': 'Seczhuan Sauce',\n",
              "  'qnt': 80,\n",
              "  'type': 'Ketchup'},\n",
              " '160110111017': {'expiry': '6 September 2023',\n",
              "  'msrp': 500,\n",
              "  'name': 'Detergent',\n",
              "  'qnt': 90,\n",
              "  'type': 'Life Care'},\n",
              " '160110111018': {'expiry': '16 November 2021',\n",
              "  'msrp': 199,\n",
              "  'name': 'Cheese',\n",
              "  'qnt': 50,\n",
              "  'type': 'Dairy'},\n",
              " '160110111019': {'expiry': '30 September 2021',\n",
              "  'msrp': 50,\n",
              "  'name': 'Bananas',\n",
              "  'qnt': 100,\n",
              "  'type': 'Fruits'},\n",
              " '160110111020': {'expiry': '9 September 2021',\n",
              "  'msrp': 20,\n",
              "  'name': 'Cabbage',\n",
              "  'qnt': 10,\n",
              "  'type': 'Vegetables'},\n",
              " '160110111021': {'expiry': '30 October 2021',\n",
              "  'msrp': 200,\n",
              "  'name': 'Brown Rice',\n",
              "  'qnt': 150,\n",
              "  'type': 'Grains'},\n",
              " '160110111022': {'expiry': '13 September 2021',\n",
              "  'msrp': 50,\n",
              "  'name': 'Couscous',\n",
              "  'qnt': 10,\n",
              "  'type': 'Pasta'},\n",
              " '160110111023': {'expiry': '6 October 2021',\n",
              "  'msrp': 30,\n",
              "  'name': 'Beans',\n",
              "  'qnt': 50,\n",
              "  'type': 'Legumes'},\n",
              " '160110111024': {'expiry': '6 December 2021',\n",
              "  'msrp': 150,\n",
              "  'name': 'Frozen Pizza',\n",
              "  'qnt': 100,\n",
              "  'type': 'Dairy'},\n",
              " '160110111025': {'expiry': '30 October 2021',\n",
              "  'msrp': 300,\n",
              "  'name': 'Chicken',\n",
              "  'qnt': 50,\n",
              "  'type': 'Frozen Food'},\n",
              " '160110111026': {'expiry': 'NaN',\n",
              "  'msrp': 199,\n",
              "  'name': 'Deodorant',\n",
              "  'qnt': 80,\n",
              "  'type': 'Life Care'},\n",
              " '160110111027': {'expiry': '6 September 2022',\n",
              "  'msrp': 300,\n",
              "  'name': 'Pedigree',\n",
              "  'qnt': 20,\n",
              "  'type': 'Pet Supplies'},\n",
              " '160110111028': {'expiry': '6 September 2022',\n",
              "  'msrp': 1500,\n",
              "  'name': 'Whey Protein',\n",
              "  'qnt': 15,\n",
              "  'type': 'Sports Supplementaries'},\n",
              " '160110111029': {'expiry': 'NaN',\n",
              "  'msrp': 800,\n",
              "  'name': 'Calculator',\n",
              "  'qnt': 50,\n",
              "  'type': 'Electronics'},\n",
              " '160110111030': {'expiry': 'NaN',\n",
              "  'msrp': 4000,\n",
              "  'name': 'Lawn Mover',\n",
              "  'qnt': 5,\n",
              "  'type': 'Household'},\n",
              " '160110111031': {'expiry': 'NaN',\n",
              "  'msrp': 200,\n",
              "  'name': 'Bedsheet',\n",
              "  'qnt': 50,\n",
              "  'type': 'Cloth'}}"
            ]
          },
          "metadata": {},
          "execution_count": 108
        }
      ]
    },
    {
      "cell_type": "code",
      "metadata": {
        "colab": {
          "base_uri": "https://localhost:8080/"
        },
        "id": "GvQBlzWmhFc9",
        "outputId": "16716969-901c-443f-ed64-80e620b81c23"
      },
      "source": [
        "print(\"Greetings Fellow Member, Welcome to the Inventory Management System\")\n",
        "print(\"Kindly Enter the Product Details your interested buying \")\n",
        "\n",
        "\n",
        "ui_prod = input(\"Enter the product Id: \")\n",
        "\n",
        "\n",
        "for i in items.keys():\n",
        "    while ui_prod == i:\n",
        "      print(\"The Item you have selected is :\", items[ui_prod]['name'])\n",
        "      print(\"Its MSRP is :\", items[ui_prod]['msrp'])\n",
        "      print(\"Its Quantity is :\", items[ui_prod]['qnt'])\n",
        "      print(\"The type of the Item is : \", items[ui_prod]['type'])\n",
        "      print(\"This item will expire by : \", items[ui_prod]['expiry'])\n",
        "      ui_quan = int(input(\"Enter the quantity of the Product you want to purchase: \"))\n",
        "      if ui_quan <= items[i]['qnt']:\n",
        "            print(\"****************************************\")\n",
        "            print(\"  Product:\",items[ui_prod]['name'])\n",
        "            print(\"  Max Sellin Retail Price:\",items[ui_prod]['msrp'])\n",
        "            print(\"****************************************\")\n",
        "            print(\"----------BILLING DETAILS:---------- \")\n",
        "            print(\"Total Amount: \",items[ui_prod]['msrp']*ui_quan) \n",
        "            print(\"Enjoy Your Day\")\n",
        "            print(\"Thank You. Visit Again\")\n",
        "            print(\"**********************************\")\n",
        "            items[ui_prod][\"qnt\"] = items[ui_prod][\"qnt\"] - ui_quan\n",
        "      else:\n",
        "            print(\"Sorry. Stock of the product\", utems[ui_prod]['name'] ,\"you enterd is: \",items[ui_prod]['qnt'],\"Out of our Capacity, \\n Please accept our apologies for this inconvenience\")\n",
        "      break\n",
        "if ui_prod not in items.keys():\n",
        "   print(\"Sorry. No product found for ID: \",ui_prod,\"Please enter valid product ID\")\n",
        "    \n",
        "    \n",
        "js = json.dumps(items)\n",
        "\n",
        "fd = open(\"new_inv.json\",'w')\n",
        "fd.write(js)\n",
        "fd.close()\n"
      ],
      "execution_count": 116,
      "outputs": [
        {
          "output_type": "stream",
          "name": "stdout",
          "text": [
            "Greetings Fellow Member, Welcome to the Inventory Management System\n",
            "Kindly Enter the Product Details your interested buying \n",
            "Enter the product Id: 160110111005\n",
            "The Item you have selected is : Milk\n",
            "Its MSRP is : 28\n",
            "Its Quantity is : 50\n",
            "The type of the Item is :  Dairy\n",
            "This item will expire by :  13 September 2021\n",
            "Enter the quantity of the Product you want to purchase: 8\n",
            "****************************************\n",
            "  Product: Milk\n",
            "  Max Sellin Retail Price: 28\n",
            "****************************************\n",
            "----------BILLING DETAILS:---------- \n",
            "Total Amount:  224\n",
            "Enjoy Your Day\n",
            "Thank You. Visit Again\n",
            "**********************************\n"
          ]
        }
      ]
    },
    {
      "cell_type": "code",
      "metadata": {
        "colab": {
          "base_uri": "https://localhost:8080/"
        },
        "id": "25PloKI-mvra",
        "outputId": "c9bd1ab1-24e2-4807-9400-5d9159e3b381"
      },
      "source": [
        "items"
      ],
      "execution_count": 117,
      "outputs": [
        {
          "output_type": "execute_result",
          "data": {
            "text/plain": [
              "{'160110111001': {'expiry': '13 Sept 2021',\n",
              "  'msrp': 25.0,\n",
              "  'name': 'Bread',\n",
              "  'qnt': 10,\n",
              "  'type': 'Food'},\n",
              " '160110111002': {'expiry': '6 October 2021',\n",
              "  'msrp': 200,\n",
              "  'name': 'Meat',\n",
              "  'qnt': 100,\n",
              "  'type': 'Food'},\n",
              " '160110111003': {'expiry': '6 November 2021',\n",
              "  'msrp': 15,\n",
              "  'name': 'Cold Drink',\n",
              "  'qnt': 200,\n",
              "  'type': 'Beverage'},\n",
              " '160110111004': {'expiry': 'Nan',\n",
              "  'msrp': 50,\n",
              "  'name': 'Hand Towel',\n",
              "  'qnt': 40,\n",
              "  'type': 'Cloth'},\n",
              " '160110111005': {'expiry': '13 September 2021',\n",
              "  'msrp': 28,\n",
              "  'name': 'Milk',\n",
              "  'qnt': 42,\n",
              "  'type': 'Dairy'},\n",
              " '160110111006': {'expiry': '13 September 2021',\n",
              "  'msrp': 5,\n",
              "  'name': 'Eggs',\n",
              "  'qnt': 400,\n",
              "  'type': 'Dairy'},\n",
              " '160110111007': {'expiry': '6 September 2022',\n",
              "  'msrp': 200,\n",
              "  'name': 'Cashew',\n",
              "  'qnt': 150,\n",
              "  'type': 'Dry Fruits'},\n",
              " '160110111008': {'expiry': '6 October 2021 ',\n",
              "  'msrp': 45,\n",
              "  'name': 'Yogurt',\n",
              "  'qnt': 90,\n",
              "  'type': 'Dairy'},\n",
              " '160110111010': {'expiry': '6 September 2022',\n",
              "  'msrp': 98,\n",
              "  'name': 'Kissan Jam',\n",
              "  'qnt': 20,\n",
              "  'type': 'Condiment'},\n",
              " '160110111011': {'expiry': '13 November 2021',\n",
              "  'msrp': 50,\n",
              "  'name': 'Croissant',\n",
              "  'qnt': 25,\n",
              "  'type': 'Dairy(Pastry)'},\n",
              " '160110111012': {'expiry': '21 September 2021',\n",
              "  'msrp': 40,\n",
              "  'name': 'Oatmeal',\n",
              "  'qnt': 100,\n",
              "  'type': 'Grains'},\n",
              " '160110111013': {'expiry': '8 September 2021',\n",
              "  'msrp': 60,\n",
              "  'name': 'Apples',\n",
              "  'qnt': 25,\n",
              "  'type': 'Fruits'},\n",
              " '160110111014': {'expiry': 'NaN',\n",
              "  'msrp': 99,\n",
              "  'name': 'Toilet Paper',\n",
              "  'qnt': 100,\n",
              "  'type': 'Life Care'},\n",
              " '160110111015': {'expiry': '6 October 2021',\n",
              "  'msrp': 50,\n",
              "  'name': 'Chocolate',\n",
              "  'qnt': 500,\n",
              "  'type': 'Snacks'},\n",
              " '160110111016': {'expiry': '13 November 2021',\n",
              "  'msrp': 40,\n",
              "  'name': 'Seczhuan Sauce',\n",
              "  'qnt': 80,\n",
              "  'type': 'Ketchup'},\n",
              " '160110111017': {'expiry': '6 September 2023',\n",
              "  'msrp': 500,\n",
              "  'name': 'Detergent',\n",
              "  'qnt': 90,\n",
              "  'type': 'Life Care'},\n",
              " '160110111018': {'expiry': '16 November 2021',\n",
              "  'msrp': 199,\n",
              "  'name': 'Cheese',\n",
              "  'qnt': 50,\n",
              "  'type': 'Dairy'},\n",
              " '160110111019': {'expiry': '30 September 2021',\n",
              "  'msrp': 50,\n",
              "  'name': 'Bananas',\n",
              "  'qnt': 100,\n",
              "  'type': 'Fruits'},\n",
              " '160110111020': {'expiry': '9 September 2021',\n",
              "  'msrp': 20,\n",
              "  'name': 'Cabbage',\n",
              "  'qnt': 10,\n",
              "  'type': 'Vegetables'},\n",
              " '160110111021': {'expiry': '30 October 2021',\n",
              "  'msrp': 200,\n",
              "  'name': 'Brown Rice',\n",
              "  'qnt': 150,\n",
              "  'type': 'Grains'},\n",
              " '160110111022': {'expiry': '13 September 2021',\n",
              "  'msrp': 50,\n",
              "  'name': 'Couscous',\n",
              "  'qnt': 10,\n",
              "  'type': 'Pasta'},\n",
              " '160110111023': {'expiry': '6 October 2021',\n",
              "  'msrp': 30,\n",
              "  'name': 'Beans',\n",
              "  'qnt': 50,\n",
              "  'type': 'Legumes'},\n",
              " '160110111024': {'expiry': '6 December 2021',\n",
              "  'msrp': 150,\n",
              "  'name': 'Frozen Pizza',\n",
              "  'qnt': 100,\n",
              "  'type': 'Dairy'},\n",
              " '160110111025': {'expiry': '30 October 2021',\n",
              "  'msrp': 300,\n",
              "  'name': 'Chicken',\n",
              "  'qnt': 50,\n",
              "  'type': 'Frozen Food'},\n",
              " '160110111026': {'expiry': 'NaN',\n",
              "  'msrp': 199,\n",
              "  'name': 'Deodorant',\n",
              "  'qnt': 80,\n",
              "  'type': 'Life Care'},\n",
              " '160110111027': {'expiry': '6 September 2022',\n",
              "  'msrp': 300,\n",
              "  'name': 'Pedigree',\n",
              "  'qnt': 20,\n",
              "  'type': 'Pet Supplies'},\n",
              " '160110111028': {'expiry': '6 September 2022',\n",
              "  'msrp': 1500,\n",
              "  'name': 'Whey Protein',\n",
              "  'qnt': 15,\n",
              "  'type': 'Sports Supplementaries'},\n",
              " '160110111029': {'expiry': 'NaN',\n",
              "  'msrp': 800,\n",
              "  'name': 'Calculator',\n",
              "  'qnt': 50,\n",
              "  'type': 'Electronics'},\n",
              " '160110111030': {'expiry': 'NaN',\n",
              "  'msrp': 4000,\n",
              "  'name': 'Lawn Mover',\n",
              "  'qnt': 5,\n",
              "  'type': 'Household'},\n",
              " '160110111031': {'expiry': 'NaN',\n",
              "  'msrp': 200,\n",
              "  'name': 'Bedsheet',\n",
              "  'qnt': 50,\n",
              "  'type': 'Cloth'}}"
            ]
          },
          "metadata": {},
          "execution_count": 117
        }
      ]
    },
    {
      "cell_type": "code",
      "metadata": {
        "id": "8r7_jIWLncjZ"
      },
      "source": [
        "fd = open(\"new_inv.json\",'r')\n",
        "transcript = fd.read()\n",
        "fd.close()\n",
        "\n",
        "sales = json.loads(trans)\n",
        "num = len(sales)+1\n",
        "\n",
        "sales[num] = {'name':ui_prod, 'qnt' : ui_quan, 'amount': items[ui_prod]['msrp'] * ui_quan}\n",
        "sale = json.dumps(sales)\n",
        "\n",
        "fd = open(\"sales.json\",'w')\n",
        "fd.write(sale)\n",
        "fd.close()"
      ],
      "execution_count": 121,
      "outputs": []
    },
    {
      "cell_type": "code",
      "metadata": {
        "colab": {
          "base_uri": "https://localhost:8080/",
          "height": 171
        },
        "id": "IEClTrl7npE3",
        "outputId": "ab1c736b-2edc-404c-c257-17babb0b2c25"
      },
      "source": [
        "transcript"
      ],
      "execution_count": 122,
      "outputs": [
        {
          "output_type": "execute_result",
          "data": {
            "application/vnd.google.colaboratory.intrinsic+json": {
              "type": "string"
            },
            "text/plain": [
              "'{\"160110111001\": {\"name\": \"Bread\", \"msrp\": 25.0, \"qnt\": 10, \"type\": \"Food\", \"expiry\": \"13 Sept 2021\"}, \"160110111002\": {\"name\": \"Meat\", \"msrp\": 200, \"qnt\": 100, \"type\": \"Food\", \"expiry\": \"6 October 2021\"}, \"160110111003\": {\"name\": \"Cold Drink\", \"msrp\": 15, \"qnt\": 200, \"type\": \"Beverage\", \"expiry\": \"6 November 2021\"}, \"160110111004\": {\"name\": \"Hand Towel\", \"msrp\": 50, \"qnt\": 40, \"type\": \"Cloth\", \"expiry\": \"Nan\"}, \"160110111005\": {\"name\": \"Milk\", \"msrp\": 28, \"qnt\": 42, \"type\": \"Dairy\", \"expiry\": \"13 September 2021\"}, \"160110111006\": {\"name\": \"Eggs\", \"msrp\": 5, \"qnt\": 400, \"type\": \"Dairy\", \"expiry\": \"13 September 2021\"}, \"160110111007\": {\"name\": \"Cashew\", \"msrp\": 200, \"qnt\": 150, \"type\": \"Dry Fruits\", \"expiry\": \"6 September 2022\"}, \"160110111008\": {\"name\": \"Yogurt\", \"msrp\": 45, \"qnt\": 90, \"type\": \"Dairy\", \"expiry\": \"6 October 2021 \"}, \"160110111010\": {\"name\": \"Kissan Jam\", \"msrp\": 98, \"qnt\": 20, \"type\": \"Condiment\", \"expiry\": \"6 September 2022\"}, \"160110111011\": {\"name\": \"Croissant\", \"msrp\": 50, \"qnt\": 25, \"type\": \"Dairy(Pastry)\", \"expiry\": \"13 November 2021\"}, \"160110111012\": {\"name\": \"Oatmeal\", \"msrp\": 40, \"qnt\": 100, \"type\": \"Grains\", \"expiry\": \"21 September 2021\"}, \"160110111013\": {\"name\": \"Apples\", \"msrp\": 60, \"qnt\": 25, \"type\": \"Fruits\", \"expiry\": \"8 September 2021\"}, \"160110111014\": {\"name\": \"Toilet Paper\", \"msrp\": 99, \"qnt\": 100, \"type\": \"Life Care\", \"expiry\": \"NaN\"}, \"160110111015\": {\"name\": \"Chocolate\", \"msrp\": 50, \"qnt\": 500, \"type\": \"Snacks\", \"expiry\": \"6 October 2021\"}, \"160110111016\": {\"name\": \"Seczhuan Sauce\", \"msrp\": 40, \"qnt\": 80, \"type\": \"Ketchup\", \"expiry\": \"13 November 2021\"}, \"160110111017\": {\"name\": \"Detergent\", \"msrp\": 500, \"qnt\": 90, \"type\": \"Life Care\", \"expiry\": \"6 September 2023\"}, \"160110111018\": {\"name\": \"Cheese\", \"msrp\": 199, \"qnt\": 50, \"type\": \"Dairy\", \"expiry\": \"16 November 2021\"}, \"160110111019\": {\"name\": \"Bananas\", \"msrp\": 50, \"qnt\": 100, \"type\": \"Fruits\", \"expiry\": \"30 September 2021\"}, \"160110111020\": {\"name\": \"Cabbage\", \"msrp\": 20, \"qnt\": 10, \"type\": \"Vegetables\", \"expiry\": \"9 September 2021\"}, \"160110111021\": {\"name\": \"Brown Rice\", \"msrp\": 200, \"qnt\": 150, \"type\": \"Grains\", \"expiry\": \"30 October 2021\"}, \"160110111022\": {\"name\": \"Couscous\", \"msrp\": 50, \"qnt\": 10, \"type\": \"Pasta\", \"expiry\": \"13 September 2021\"}, \"160110111023\": {\"name\": \"Beans\", \"msrp\": 30, \"qnt\": 50, \"type\": \"Legumes\", \"expiry\": \"6 October 2021\"}, \"160110111024\": {\"name\": \"Frozen Pizza\", \"msrp\": 150, \"qnt\": 100, \"type\": \"Dairy\", \"expiry\": \"6 December 2021\"}, \"160110111025\": {\"name\": \"Chicken\", \"msrp\": 300, \"qnt\": 50, \"type\": \"Frozen Food\", \"expiry\": \"30 October 2021\"}, \"160110111026\": {\"name\": \"Deodorant\", \"msrp\": 199, \"qnt\": 80, \"type\": \"Life Care\", \"expiry\": \"NaN\"}, \"160110111027\": {\"name\": \"Pedigree\", \"msrp\": 300, \"qnt\": 20, \"type\": \"Pet Supplies\", \"expiry\": \"6 September 2022\"}, \"160110111028\": {\"name\": \"Whey Protein\", \"msrp\": 1500, \"qnt\": 15, \"type\": \"Sports Supplementaries\", \"expiry\": \"6 September 2022\"}, \"160110111029\": {\"name\": \"Calculator\", \"msrp\": 800, \"qnt\": 50, \"type\": \"Electronics\", \"expiry\": \"NaN\"}, \"160110111030\": {\"name\": \"Lawn Mover\", \"msrp\": 4000, \"qnt\": 5, \"type\": \"Household\", \"expiry\": \"NaN\"}, \"160110111031\": {\"name\": \"Bedsheet\", \"msrp\": 200, \"qnt\": 50, \"type\": \"Cloth\", \"expiry\": \"NaN\"}}'"
            ]
          },
          "metadata": {},
          "execution_count": 122
        }
      ]
    },
    {
      "cell_type": "code",
      "metadata": {
        "id": "n_Hz-nrnoDv5"
      },
      "source": [
        ""
      ],
      "execution_count": null,
      "outputs": []
    }
  ]
}